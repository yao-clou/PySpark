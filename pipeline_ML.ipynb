from pyspark.sql import SparkSession  
spark = SparkSession.builder.master('local').getOrCreate()
